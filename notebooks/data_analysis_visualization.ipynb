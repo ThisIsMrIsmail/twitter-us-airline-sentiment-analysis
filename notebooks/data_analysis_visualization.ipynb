{
 "cells": [
  {
   "cell_type": "code",
   "execution_count": null,
   "id": "64510247",
   "metadata": {},
   "outputs": [],
   "source": [
    "import pandas as pd\n",
    "import matplotlib.pyplot as plt"
   ]
  },
  {
   "cell_type": "code",
   "execution_count": null,
   "id": "4abe50d3",
   "metadata": {},
   "outputs": [],
   "source": [
    "data = pd.read_csv('../data/Tweets.csv')\n",
    "data.head()"
   ]
  },
  {
   "cell_type": "code",
   "execution_count": null,
   "id": "90654902",
   "metadata": {},
   "outputs": [],
   "source": [
    "data.info()"
   ]
  },
  {
   "cell_type": "code",
   "execution_count": null,
   "id": "66eab4ca",
   "metadata": {},
   "outputs": [],
   "source": [
    "data.describe()"
   ]
  },
  {
   "cell_type": "code",
   "execution_count": null,
   "id": "8262d677",
   "metadata": {},
   "outputs": [],
   "source": [
    "data.isnull().sum()"
   ]
  },
  {
   "cell_type": "code",
   "execution_count": null,
   "id": "ed0fd94e",
   "metadata": {},
   "outputs": [],
   "source": [
    "data.shape"
   ]
  },
  {
   "cell_type": "code",
   "execution_count": null,
   "id": "bb2a9b5a",
   "metadata": {},
   "outputs": [],
   "source": [
    "data.columns"
   ]
  },
  {
   "cell_type": "code",
   "execution_count": null,
   "id": "14ad9e9d",
   "metadata": {},
   "outputs": [],
   "source": [
    "data[\"text\"].head()"
   ]
  },
  {
   "cell_type": "code",
   "execution_count": null,
   "id": "b691f8eb",
   "metadata": {},
   "outputs": [],
   "source": [
    "data[\"text\"].str.lower().head()"
   ]
  },
  {
   "cell_type": "code",
   "execution_count": null,
   "id": "4be45436",
   "metadata": {},
   "outputs": [],
   "source": [
    "data[\"airline\"].value_counts()"
   ]
  },
  {
   "cell_type": "code",
   "execution_count": null,
   "id": "761a6f92",
   "metadata": {},
   "outputs": [],
   "source": [
    "# calculating value counts for \"airline_sentiment\"\n",
    "sentiment_counts = data['airline_sentiment'].value_counts()\n",
    "\n",
    "plt.figure(figsize=(8, 5))\n",
    "sentiment_counts.plot(kind='bar')\n",
    "plt.xlabel('Airline Sentiment')\n",
    "plt.ylabel('Number of Tweets')\n",
    "plt.title('Distribution of Airline Sentiments')\n",
    "plt.xticks(rotation=0)\n",
    "plt.tight_layout()\n",
    "plt.savefig('airline_sentiment_distribution_bar_chart.png')\n",
    "plt.show()\n",
    "print(\"Distribution of Airline Sentiments chart is saved as airline_sentiment_distribution_bar_chart.png\")\n"
   ]
  },
  {
   "cell_type": "code",
   "execution_count": null,
   "id": "b23f79ff",
   "metadata": {},
   "outputs": [],
   "source": [
    "# grouping the DataFrame by \"airline\" and calculating value counts for \"airline_sentiment\"\n",
    "sentiment_by_airline = data.groupby('airline')['airline_sentiment'].value_counts().unstack(fill_value=0).reset_index()\n",
    "sentiment_by_airline = sentiment_by_airline.melt(id_vars='airline', var_name='airline_sentiment', value_name='count')\n",
    "\n",
    "pivot_df = sentiment_by_airline.pivot(index='airline', columns='airline_sentiment', values='count')\n",
    "\n",
    "pivot_df.plot(kind='bar', stacked=True, figsize=(10, 6))\n",
    "plt.xlabel('Airline')\n",
    "plt.ylabel('Number of Tweets')\n",
    "plt.title('Sentiment Distribution by Airline')\n",
    "plt.legend(title='Airline Sentiment')\n",
    "plt.tight_layout()\n",
    "plt.savefig('sentiment_distribution_by_airline_stacked_bar_chart_matplotlib.png')\n",
    "plt.show()\n",
    "print(\"Sentiment Distribution by Airline chart is saved as sentiment_distribution_by_airline_stacked_bar_chart_matplotlib.png\")"
   ]
  },
  {
   "cell_type": "code",
   "execution_count": null,
   "id": "ca7e804d",
   "metadata": {},
   "outputs": [],
   "source": [
    "# filtering the DataFrame to include only rows where \"airline_sentiment\" is 'negative'\n",
    "negative_tweets = data[data['airline_sentiment'] == 'negative']\n",
    "\n",
    "# grouping the filtered DataFrame by both \"airline\" and \"negativereason\" and calculate value counts\n",
    "reason_by_airline = negative_tweets.groupby(['airline', 'negativereason']).size().reset_index(name='count')\n",
    "\n",
    "# Pivot the data for grouped bar plotting\n",
    "pivot_reason = reason_by_airline.pivot(index='negativereason', columns='airline', values='count')\n",
    "\n",
    "# Plot the grouped bar chart using matplotlib\n",
    "pivot_reason.plot(kind='bar', figsize=(14, 7))\n",
    "plt.xlabel('Reason for Negative Sentiment')\n",
    "plt.ylabel('Number of Negative Tweets')\n",
    "plt.title('Reasons for Negative Sentiment by Airline')\n",
    "plt.legend(title='Airline')\n",
    "plt.tight_layout()\n",
    "plt.savefig('negative_sentiment_reasons_by_airline_grouped_bar_chart_matplotlib.png')\n",
    "plt.show()\n",
    "print(\"Reasons for Negative Sentiment by Airline chart is saved as negative_sentiment_reasons_by_airline_grouped_bar_chart_matplotlib.png\")\n"
   ]
  },
  {
   "cell_type": "code",
   "execution_count": null,
   "id": "5f5e379b",
   "metadata": {},
   "outputs": [],
   "source": [
    "# Ensuring that the \"text\" and \"airline_sentiment\" columns has unique datatypes\n",
    "num_text_types = data['text'].apply(type).nunique()\n",
    "num_sentiment_types = data['airline_sentiment'].apply(type).nunique()\n",
    "print(f\"Number of datatypes in 'text': {num_text_types}\")\n",
    "print(f\"Number of datatypes in 'airline_sentiment': {num_sentiment_types}\")"
   ]
  },
  {
   "cell_type": "code",
   "execution_count": null,
   "id": "cbb6aa2e",
   "metadata": {},
   "outputs": [],
   "source": []
  },
  {
   "cell_type": "code",
   "execution_count": null,
   "id": "5f828378",
   "metadata": {},
   "outputs": [],
   "source": []
  },
  {
   "cell_type": "code",
   "execution_count": null,
   "id": "629b7f46",
   "metadata": {},
   "outputs": [],
   "source": []
  }
 ],
 "metadata": {
  "kernelspec": {
   "display_name": "Python 3",
   "language": "python",
   "name": "python3"
  },
  "language_info": {
   "codemirror_mode": {
    "name": "ipython",
    "version": 3
   },
   "file_extension": ".py",
   "mimetype": "text/x-python",
   "name": "python",
   "nbconvert_exporter": "python",
   "pygments_lexer": "ipython3",
   "version": "3.13.2"
  }
 },
 "nbformat": 4,
 "nbformat_minor": 5
}
